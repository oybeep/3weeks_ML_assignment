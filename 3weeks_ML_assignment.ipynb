{
  "cells": [
    {
      "cell_type": "code",
      "execution_count": null,
      "metadata": {
        "colab": {
          "base_uri": "https://localhost:8080/"
        },
        "id": "6dlF8N-O551z",
        "outputId": "a034ef13-53bd-4fc5-a7d5-54b8d585aac3"
      },
      "outputs": [
        {
          "name": "stdout",
          "output_type": "stream",
          "text": [
            "[9 8 7 6 5 4 3 2 1 0]\n"
          ]
        }
      ],
      "source": [
        "import numpy as np\n",
        "n=np.array([0,1,2,3,4,5,6,7,8,9])\n",
        "print(n[::-1])"
      ]
    },
    {
      "cell_type": "code",
      "execution_count": null,
      "metadata": {
        "colab": {
          "base_uri": "https://localhost:8080/"
        },
        "id": "j_AGbFZx7Vsb",
        "outputId": "467505b3-04a1-4648-cfd7-0b9a64dc980b"
      },
      "outputs": [
        {
          "name": "stdout",
          "output_type": "stream",
          "text": [
            "[[0 1 2]\n",
            " [3 4 5]\n",
            " [6 7 8]]\n",
            "[[0]\n",
            " [1]\n",
            " [2]\n",
            " [3]\n",
            " [4]\n",
            " [5]\n",
            " [6]\n",
            " [7]\n",
            " [8]]\n"
          ]
        }
      ],
      "source": [
        "n=np.array([0,1,2,3,4,5,6,7,8])\n",
        "m=n.reshape(3,3)\n",
        "o=n.reshape(9,1)\n",
        "print(m)\n",
        "print(o)"
      ]
    },
    {
      "cell_type": "code",
      "execution_count": null,
      "metadata": {
        "colab": {
          "base_uri": "https://localhost:8080/"
        },
        "id": "2guB19HvEE-f",
        "outputId": "1eee57ef-139a-40c6-c2b6-8163724930d2"
      },
      "outputs": [
        {
          "name": "stdout",
          "output_type": "stream",
          "text": [
            "[[1. 1. 1. 1. 1. 1. 1. 1. 1. 1.]\n",
            " [1. 0. 0. 0. 0. 0. 0. 0. 0. 1.]\n",
            " [1. 0. 0. 0. 0. 0. 0. 0. 0. 1.]\n",
            " [1. 0. 0. 0. 0. 0. 0. 0. 0. 1.]\n",
            " [1. 0. 0. 0. 0. 0. 0. 0. 0. 1.]\n",
            " [1. 0. 0. 0. 0. 0. 0. 0. 0. 1.]\n",
            " [1. 0. 0. 0. 0. 0. 0. 0. 0. 1.]\n",
            " [1. 0. 0. 0. 0. 0. 0. 0. 0. 1.]\n",
            " [1. 0. 0. 0. 0. 0. 0. 0. 0. 1.]\n",
            " [1. 1. 1. 1. 1. 1. 1. 1. 1. 1.]]\n"
          ]
        }
      ],
      "source": [
        "n=np.zeros((10,10))\n",
        "n[0,:]=1\n",
        "n[-1,:]=1\n",
        "n[:, 0]=1\n",
        "n[:, -1]=1\n",
        "print(n)"
      ]
    },
    {
      "cell_type": "code",
      "execution_count": null,
      "metadata": {
        "colab": {
          "base_uri": "https://localhost:8080/"
        },
        "id": "DGgq6ixYJp4z",
        "outputId": "adc7d401-5348-43ab-c39e-f4aaa381b94b"
      },
      "outputs": [
        {
          "name": "stdout",
          "output_type": "stream",
          "text": [
            "[[0. 1. 0. 1. 0.]\n",
            " [1. 0. 1. 0. 1.]\n",
            " [0. 1. 0. 1. 0.]\n",
            " [1. 0. 1. 0. 1.]\n",
            " [0. 1. 0. 1. 0.]]\n"
          ]
        }
      ],
      "source": [
        "n=np.zeros((5,5))\n",
        "n[1::2,::2]=1\n",
        "n[::2,1::2]=1\n",
        "print(n)"
      ]
    },
    {
      "cell_type": "code",
      "execution_count": 4,
      "metadata": {
        "colab": {
          "base_uri": "https://localhost:8080/"
        },
        "id": "cLIW_YKgUASc",
        "outputId": "41012a89-87bb-4544-8fea-4aa741c0ebd3"
      },
      "outputs": [
        {
          "name": "stdout",
          "output_type": "stream",
          "text": [
            "[ 0  1  2  3  4 -5 -6 -7 -8  9]\n"
          ]
        }
      ],
      "source": [
        "n=np.array([0,1,2,3,4,5,6,7,8,9])\n",
        "n[(n>=5)&(n<=8)]*=-1\n",
        "print(n)"
      ]
    },
    {
      "cell_type": "code",
      "execution_count": 6,
      "metadata": {
        "colab": {
          "base_uri": "https://localhost:8080/"
        },
        "id": "p9x8aRoCkTlL",
        "outputId": "c16bfb24-c14f-4514-e0dd-13b762402683"
      },
      "outputs": [
        {
          "name": "stdout",
          "output_type": "stream",
          "text": [
            "[[13 37]\n",
            " [24 71]]\n"
          ]
        }
      ],
      "source": [
        "arr1=np.array([[4,5],[7,10]])\n",
        "arr2=np.array([[2,3],[1,5]])\n",
        "result=arr1@arr2\n",
        "print(result)"
      ]
    },
    {
      "cell_type": "code",
      "execution_count": 9,
      "metadata": {
        "colab": {
          "base_uri": "https://localhost:8080/",
          "height": 449
        },
        "id": "NPNzAeAlP1mE",
        "outputId": "03fde78a-20d5-4b13-e622-80dac3b1b17a"
      },
      "outputs": [
        {
          "data": {
            "image/png": "[encoded data removed]",
            "text/plain": [
              "<Figure size 640x480 with 1 Axes>"
            ]
          },
          "metadata": {},
          "output_type": "display_data"
        }
      ],
      "source": [
        "import matplotlib.pyplot as plt\n",
        "import numpy as np\n",
        "import math\n",
        "\n",
        "X=np.linspace(-10,10,100)\n",
        "Y=np.exp(-X)/(1+np.exp(-X))**2\n",
        "\n",
        "plt.plot(X,Y)\n",
        "plt.xlabel(\"x\")\n",
        "plt.ylabel(\"Sigmoid'(x)\")\n",
        "plt.show()"
      ]
    },
    {
      "cell_type": "code",
      "execution_count": null,
      "metadata": {
        "id": "QNpzGAJMdR80"
      },
      "outputs": [],
      "source": []
    }
  ],
  "metadata": {
    "colab": {
      "provenance": []
    },
    "kernelspec": {
      "display_name": "Python 3",
      "name": "python3"
    },
    "language_info": {
      "name": "python"
    }
  },
  "nbformat": 4,
  "nbformat_minor": 0
}
